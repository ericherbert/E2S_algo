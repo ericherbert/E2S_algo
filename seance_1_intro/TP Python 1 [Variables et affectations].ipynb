{
 "cells": [
  {
   "cell_type": "markdown",
   "metadata": {},
   "source": [
    "<div class = \"alert  alert-warning\">\n",
    "    <figure style=\"float:left\">\n",
    "    <img src=\"https://upload.wikimedia.org/wikipedia/commons/c/c3/Python-logo-notext.svg\" alt=\"logo de Python\" width=\"50px\">  \n",
    "</figure>\n",
    "    <figure style=\"float:right\">\n",
    "    <img src=\"https://upload.wikimedia.org/wikipedia/commons/c/c3/Python-logo-notext.svg\" alt=\"logo de Python\" width=\"50px\">  \n",
    "</figure>\n",
    "    <center>\n",
    "        <h1> <font color=#df062a>TP Python 1 : variables et affectations</font></h1>\n",
    "    </center>\n",
    "</div>\n"
   ]
  },
  {
   "cell_type": "markdown",
   "metadata": {},
   "source": [
    "\n",
    "\n",
    "# <font color=#df062a> Préambule </font>\n",
    "L'environnement que vous avez sous les yeux se nomme  ***Jupyter notebook***.\n",
    "\n",
    "###  <font color=#2d06df> 1) Avantages</font>\n",
    "\n",
    "- Un notebook est un  document \"mixte\" contenant des cellules de **texte** explicatif et des cellules de code Python **exécutable**.\n",
    "- Ce format est plus lisible que de simples commentaires python, et évite de basculer entre 2 logiciels, celui qui indique le travail à faire et celui qui exécute le code python. \n",
    "\n",
    "\n",
    "\n",
    "###  <font color=#2d06df> 2) Utilisation</font>\n",
    "En haut du notebook, se trouve :\n",
    "- Une barre, contenant de gauche à droite, le logo Jupyter, le logo Basthon, le titre du notebook, le logo python et le bouton <button> Retour </button>.\n",
    "- En-dessous, le menu <span style=\"border: 2px solid #e7e7e7; background : #f8f8f8\"><span style=\"color: #42a5f5;\" ><b>Capytale</b> </span> &emsp; &emsp; <span style=\"color: #565656;\" >Fichier &emsp; &emsp; … &emsp; &emsp; Noyau &emsp; &emsp; Aide </span> </span> &emsp;  \n",
    "- Enfin, une barre d'icônes, de boutons qui sont des raccourcis vers certains menus fréquemment utilisés. Si vous laissez votre souris au-dessus d'une icône, un texte indiquant sa fonction apparaît. \n",
    "\n",
    "<div class=\"alert alert-success\" style=\"border-left: 5px solid #3c763d;border-radius: 5px;\">\n",
    "    \n",
    "**Un notebook est une suite de cellules** contenant, soit du **texte**, soit du **code**. \n",
    "\n",
    "- Les cellules de code sont facilement reconnaissables, elles sont précédées de `Entrée [ ]:`\n",
    "- La cellule qui suit celle que vous êtes en train de lire est une cellule de code.\n",
    "- Pour exécuter (évaluer) une cellule de code, il faut la sélectionner (un trait bleu ciel, gras et vertical est alors à sa gauche) :\n",
    "    - puis utiliser l'icone  <button class='fa fa-step-forward'> Exécuter</button>, qui vous fait passer d'une cellule à la suivante en affichant le résultat de l'exécution;\n",
    "    - ou enfoncer simultanément les touches <span><kbd><span style=\"color:white;background-color:black\" ><b> ⇧ Maj </b></span></kbd></span> et <span><b><kbd><span style=\"color:white;background-color:black\" > ↲ Entrée </span></kbd></b></span>.</div> \n",
    "\n",
    "* La façon habituelle d'utiliser un notebook consiste à :\n",
    "\n",
    "\n",
    "    - commencer à la première cellule;\n",
    "    \n",
    "    - une fois qu'on l'a comprise ou complétée, l'éxécuter;\n",
    "    \n",
    "    - puis recommencer cellule après cellule jusqu'à la fin du notebook.\n",
    "</div>\n",
    "\n",
    "<div class=\"alert alert-warning\" >\n",
    "\n",
    "Entrainez-vous en **exécutant** la cellule de type ***code*** ci-dessous :\n",
    "</div>"
   ]
  },
  {
   "cell_type": "code",
   "execution_count": null,
   "metadata": {},
   "outputs": [],
   "source": [
    "2000+23"
   ]
  },
  {
   "cell_type": "markdown",
   "metadata": {},
   "source": [
    "<div class=\"alert alert-success\" style=\"border-left: 5px solid #3c763d;border-radius: 5px;\">\n",
    "    \n",
    "- Lorsqu'une cellule de code a été évaluée, jupyter notebook ajoute sous la cellule Entrée une cellule `Sortie [x] :`\n",
    "- Jupyter notebook ajoute également un nombre `x` entre les crochets de l'entrée, par exemple ci-dessus, `Entrée [1]:`\n",
    "    </div>\n",
    "    \n",
    "Ce nombre vous permet de retrouver l'ordre dans lequel les cellules ont été évaluées.\n",
    "\n",
    "La cellule `Sortie` contient le résultat de l'exécution du fragment python, soit ci-dessus `2023`.\n",
    "\n",
    "Voila, vous en savez assez sur l'environnement ***Jupyter notebook***. C'est tout simple, mais cela nécessite un navigateur internet.\n",
    "\n",
    "<div class=\"alert alert alert-danger\" style=\"border-left: 15px solid #a94442;border-radius:2px;\">Sauvegardez régulièrement votre travail en cliquant sur le bouton <span><div class='fa fa-save icon-save btn btn-xs btn-default' style=\"padding:5px 10px\"></div></span> !</div>\n",
    "\n",
    "\n",
    "C'est maintenant le moment de présenter les bases du langage **Python** : calculs, variables, affichage, saisie, type de données."
   ]
  },
  {
   "cell_type": "markdown",
   "metadata": {},
   "source": [
    "# <font color=#df062a>Débuts de programmation</font>\n",
    "\n",
    "\n",
    "<div class=\"alert alert-success\" style=\"border-left: 5px solid #3c763d;border-radius: 5px;\">\n",
    "    \n",
    "- Un **programme informatique** est un ensemble d'instructions destinées à être exécutées par un ordinateur.\n",
    "    \n",
    "- Pour écrire des programmes, nous utiliserons un **langage de programmation : Python**\n",
    "    </div>"
   ]
  },
  {
   "cell_type": "markdown",
   "metadata": {},
   "source": [
    "# <font color=#df062a><u>I. Python et les nombres</u></font>\n",
    "## <font color=#2d06df><i>I. 1) Les opérations sur les nombres</i></font>\n",
    "\n",
    "**Python** permet d'effectuer tout type de calcul.\n",
    "\n",
    "<div class=\"alert alert-info\">\n",
    "    <strong> Consigne : </strong><br> Exécutez les différentes cellules suivantes en identifiant à chaque fois le travail réalisé.\n",
    "</div>"
   ]
  },
  {
   "cell_type": "code",
   "execution_count": null,
   "metadata": {},
   "outputs": [],
   "source": [
    "3+7"
   ]
  },
  {
   "cell_type": "markdown",
   "metadata": {},
   "source": [
    "Opération réalisée :"
   ]
  },
  {
   "cell_type": "code",
   "execution_count": null,
   "metadata": {},
   "outputs": [],
   "source": [
    "0.5*3"
   ]
  },
  {
   "cell_type": "markdown",
   "metadata": {},
   "source": [
    "Opération réalisée :"
   ]
  },
  {
   "cell_type": "code",
   "execution_count": null,
   "metadata": {},
   "outputs": [],
   "source": [
    "7/3"
   ]
  },
  {
   "cell_type": "markdown",
   "metadata": {},
   "source": [
    "Opération réalisée :"
   ]
  },
  {
   "cell_type": "code",
   "execution_count": null,
   "metadata": {},
   "outputs": [],
   "source": [
    "25//5"
   ]
  },
  {
   "cell_type": "markdown",
   "metadata": {},
   "source": [
    "Opération réalisée :"
   ]
  },
  {
   "cell_type": "code",
   "execution_count": null,
   "metadata": {},
   "outputs": [],
   "source": [
    "2**3"
   ]
  },
  {
   "cell_type": "markdown",
   "metadata": {},
   "source": [
    "Opération réalisée : "
   ]
  },
  {
   "cell_type": "code",
   "execution_count": null,
   "metadata": {},
   "outputs": [],
   "source": [
    "2*2+5"
   ]
  },
  {
   "cell_type": "markdown",
   "metadata": {},
   "source": [
    "Opération réalisée :"
   ]
  },
  {
   "cell_type": "code",
   "execution_count": 9,
   "metadata": {},
   "outputs": [
    {
     "data": {
      "text/plain": [
       "1"
      ]
     },
     "execution_count": 9,
     "metadata": {},
     "output_type": "execute_result"
    }
   ],
   "source": [
    "23%11"
   ]
  },
  {
   "cell_type": "markdown",
   "metadata": {},
   "source": [
    "Opération réalisée :"
   ]
  },
  {
   "cell_type": "code",
   "execution_count": null,
   "metadata": {},
   "outputs": [],
   "source": [
    "1>2"
   ]
  },
  {
   "cell_type": "markdown",
   "metadata": {},
   "source": [
    "Opération réalisée :"
   ]
  },
  {
   "cell_type": "markdown",
   "metadata": {},
   "source": [
    "<div class=\"alert alert-info\"><strong>Exercice 1 : </strong> <br>  Dans une école, il y a trois secondes : <ul>\n",
    "    <li>Seconde 1 : 27 élèves</li>\n",
    "    <li>Seconde 2 : 28 élèves</li>\n",
    "    <li>Seconde 3 : 20 élèves</li>\n",
    "</ul>  <br>\n",
    "Chaque élève effectue 5 devoirs surveillés et deux devoirs maison par trimestre.<br>\n",
    "Combien le professeur va-t-il corriger de copies à l'année ?\n",
    "</div>"
   ]
  },
  {
   "cell_type": "code",
   "execution_count": null,
   "metadata": {},
   "outputs": [],
   "source": []
  },
  {
   "cell_type": "markdown",
   "metadata": {},
   "source": [
    "<div class=\"alert alert-info\"><strong>Exercice 2 : </strong>  <br>Calculer 4 au cube de deux manières différentes : en utilisant une puissance et sans utiliser de puissance. \n",
    "</div>"
   ]
  },
  {
   "cell_type": "code",
   "execution_count": null,
   "metadata": {},
   "outputs": [],
   "source": []
  },
  {
   "cell_type": "markdown",
   "metadata": {},
   "source": [
    "<div class=\"alert alert-info\"><strong>Exercice 3 : </strong> <br> En utilisant les opérateurs précédents, écrire 583 secondes au format minutes:secondes.\n",
    "</div>"
   ]
  },
  {
   "cell_type": "markdown",
   "metadata": {},
   "source": [
    "Nombre de minutes :"
   ]
  },
  {
   "cell_type": "code",
   "execution_count": null,
   "metadata": {},
   "outputs": [],
   "source": []
  },
  {
   "cell_type": "markdown",
   "metadata": {},
   "source": [
    "Nombre de minutes :"
   ]
  },
  {
   "cell_type": "code",
   "execution_count": null,
   "metadata": {},
   "outputs": [],
   "source": []
  },
  {
   "cell_type": "markdown",
   "metadata": {},
   "source": [
    "## <font color=#2d06df><i>I. 2) Les deux types de nombres</i></font>\n",
    "Il existe deux types de nombres en Python : les <strong>entiers</strong> (<code>int</code>, abréviation de \"integer\") et les <strong>flottants</strong> (<code>float</code>, abréviation de \"floating number\" qui signifie \"nombre à virgule flottante\").\n",
    "\n",
    "La fonction <code>type()</code> indique le type du nombre qu'on lui donne en paramètre.\n",
    "\n",
    "<div class=\"alert alert-info\">\n",
    "    <strong>Consigne : </strong> <br> Exécutez les différentes cellules suivantes pour illustrer le paragraphe.\n",
    "</div>"
   ]
  },
  {
   "cell_type": "code",
   "execution_count": null,
   "metadata": {},
   "outputs": [],
   "source": [
    "3+5"
   ]
  },
  {
   "cell_type": "code",
   "execution_count": null,
   "metadata": {},
   "outputs": [],
   "source": [
    "type(3+5)"
   ]
  },
  {
   "cell_type": "code",
   "execution_count": null,
   "metadata": {},
   "outputs": [],
   "source": [
    "3.0+5.0"
   ]
  },
  {
   "cell_type": "code",
   "execution_count": null,
   "metadata": {},
   "outputs": [],
   "source": [
    "type(3.0+5.0)"
   ]
  },
  {
   "cell_type": "markdown",
   "metadata": {},
   "source": [
    "**Remarque :** il existe bien entendu d'autres types de données en Python. Nous les aborderons plus bas."
   ]
  },
  {
   "cell_type": "markdown",
   "metadata": {},
   "source": [
    "# <font color=#df062a><u>II. Variables et affectations</u></font>\n",
    "\n",
    "\n",
    "<div class=\"alert alert-success\" style=\"border-left: 5px solid #3c763d;border-radius: 5px;\">\n",
    "    \n",
    "- En informatique, **les variables** associent un nom (le symbole) à une valeur ou un objet.\n",
    "    \n",
    "- La valeur contenue dans la variable peut varier au cours de l'execution de l'algorithme.\n",
    "    </div>\n",
    "\n",
    "**Remarque :** c'est une sorte de petit tiroir dans lequel on range une donnée. Ce tiroir est identifiable par une petite étiquette (un nom).\n",
    "\n",
    "<div class=\"alert alert-success\" style=\"border-left: 5px solid #3c763d;border-radius: 5px;\">\n",
    "    \n",
    "- L'**affectation** consiste à attribuer/affecter une valeur à une variable. \n",
    "    </div>"
   ]
  },
  {
   "attachments": {
    "tiroirs.png": {
     "image/png": "[encoded data removed]"
    }
   },
   "cell_type": "markdown",
   "metadata": {},
   "source": [
    "![tiroirs.png](attachment:tiroirs.png)\n",
    "<p><center> <u><strong>Figure :</strong></u> Ici, la variable <strong>a</strong> reçoit la valeur <strong>2</strong>.</center></p>"
   ]
  },
  {
   "cell_type": "markdown",
   "metadata": {},
   "source": [
    "\n",
    "\n",
    "<div class=\"alert alert-success\" style=\"border-left: 5px solid #3c763d;border-radius: 5px;\">\n",
    "    \n",
    "**En langage Python :** <br>\n",
    "    \n",
    "- On affecte une valeur à une variable grâce  au signe **=** <br>\n",
    "    \n",
    "- L'instruction <code>a = 2</code> permet d'affecter la valeur **2** à la variable nommée **a**<br>\n",
    "    \n",
    "- La valeur peut être de différent type :\n",
    "\n",
    "| Nom du type  | Mot-clé en Python | Exemple(s)  | \n",
    "|:------------|:-----:|:--------:|\n",
    "| Les entiers| int    |     <code>a = 4</code> | \n",
    "| Les réels | float  |     <code>a = 2.3</code> | \n",
    "| Les chaînes de caractères (texte)                  | str|   <code>a = \"bonjour\"</code> | \n",
    "| Les booléens : uniquement deux valeurs possibles | bool|   <code>a = True </code> (Vrai) ou <code>a = False </code> (Faux) | \n",
    "| Liste, ou tableau de valeurs, idéalement du même type                 | list|   <code>a = [0,1,2,3,4]</code> ou  <code>a = [\"poule\",\"autruche\",\"oie\",\"pie\",\"merle\"]</code> | \n",
    "    \n",
    "</div>\n",
    "    \n"
   ]
  },
  {
   "cell_type": "markdown",
   "metadata": {},
   "source": [
    "<div class=\"alert alert-info\">\n",
    "    <strong> Consigne :</strong> <br>Exécutez les différentes cellules suivantes en identifiant à chaque fois le travail réalisé.\n",
    "</div>\n"
   ]
  },
  {
   "cell_type": "code",
   "execution_count": 17,
   "metadata": {},
   "outputs": [],
   "source": [
    "a = 2"
   ]
  },
  {
   "cell_type": "markdown",
   "metadata": {},
   "source": [
    "Opération réalisée : "
   ]
  },
  {
   "cell_type": "code",
   "execution_count": null,
   "metadata": {},
   "outputs": [],
   "source": [
    "a = 3\n",
    "b = 5\n",
    "a + b"
   ]
  },
  {
   "cell_type": "markdown",
   "metadata": {},
   "source": [
    "Opération réalisée : "
   ]
  },
  {
   "cell_type": "code",
   "execution_count": 19,
   "metadata": {},
   "outputs": [],
   "source": [
    "c = a + b\n",
    "a = 6"
   ]
  },
  {
   "cell_type": "markdown",
   "metadata": {},
   "source": [
    "Opération réalisée : "
   ]
  },
  {
   "cell_type": "markdown",
   "metadata": {},
   "source": [
    "**Remarque :** Le contenu des variables persiste en mémoire. Vérifions-le :"
   ]
  },
  {
   "cell_type": "code",
   "execution_count": null,
   "metadata": {},
   "outputs": [],
   "source": [
    "a"
   ]
  },
  {
   "cell_type": "markdown",
   "metadata": {},
   "source": [
    "**Remarque :** Afficher une variable qui n'a pas encore été définie ou déclarée provoque une erreur :\n"
   ]
  },
  {
   "cell_type": "code",
   "execution_count": null,
   "metadata": {},
   "outputs": [],
   "source": [
    "d"
   ]
  },
  {
   "cell_type": "markdown",
   "metadata": {},
   "source": [
    "<div class=\"alert alert-info\">\n",
    "    <strong> Consigne :</strong> <br>Exécutez les différentes cellules suivantes en identifiant à chaque fois le travail réalisé.\n",
    "</div>\n"
   ]
  },
  {
   "cell_type": "code",
   "execution_count": null,
   "metadata": {},
   "outputs": [],
   "source": [
    "reponse = True\n",
    "reponse"
   ]
  },
  {
   "cell_type": "markdown",
   "metadata": {},
   "source": [
    "Opération réalisée :associer reponse = True et demander reponse"
   ]
  },
  {
   "cell_type": "code",
   "execution_count": 23,
   "metadata": {},
   "outputs": [],
   "source": [
    "prenom = \"Barbara\""
   ]
  },
  {
   "cell_type": "markdown",
   "metadata": {},
   "source": [
    "Opération réalisée :associer prenom = \"Barbara\""
   ]
  },
  {
   "cell_type": "code",
   "execution_count": null,
   "metadata": {},
   "outputs": [],
   "source": [
    "prenom"
   ]
  },
  {
   "cell_type": "markdown",
   "metadata": {},
   "source": [
    "Opération réalisée : demander prénom , qui a été sauvegardé sur python"
   ]
  },
  {
   "cell_type": "markdown",
   "metadata": {},
   "source": [
    "<div class=\"alert alert-info\"> <strong> Exercice 4 : \n",
    "   <br> </strong> Que vaut la variable <code> ch3 </code> après l'exécution du script de la cellule ci-dessous?\n",
    "</div>"
   ]
  },
  {
   "cell_type": "code",
   "execution_count": 25,
   "metadata": {},
   "outputs": [],
   "source": [
    "ch1 = \"az\"\n",
    "ch2 = \"er\"\n",
    "ch3 = ch1 + ch2 + \"ty\""
   ]
  },
  {
   "cell_type": "markdown",
   "metadata": {},
   "source": [
    "Réponse : azerty (l'ordre des touches d'un clavier européen)"
   ]
  },
  {
   "cell_type": "markdown",
   "metadata": {},
   "source": [
    "<div class=\"alert alert-info\"> <strong> Exercice 5 : \n",
    "   <br> </strong> Que vaut la variable <code> a </code> après l'exécution du script de la cellule ci-dessous?\n",
    "</div>"
   ]
  },
  {
   "cell_type": "code",
   "execution_count": 26,
   "metadata": {},
   "outputs": [],
   "source": [
    "a = 0.20\n",
    "b = 5\n",
    "c = 100"
   ]
  },
  {
   "cell_type": "markdown",
   "metadata": {},
   "source": [
    "Réponse : 0.20"
   ]
  },
  {
   "cell_type": "markdown",
   "metadata": {},
   "source": [
    "# <font color=#df062a><u>III. Interactions avec l'utilisateur</u></font>\n",
    "## <font color=#2d06df><i>III. 1) Afficher</i></font>\n",
    "\n",
    "<div class=\"alert alert-success\" style=\"border-left: 5px solid #3c763d;border-radius: 5px;\">\n",
    "    \n",
    "- La fonction <code>print()</code> permet d'afficher une chaîne de caractères (\"string\" en anglais). \n",
    "\n",
    "- La chaîne de caractère que l'on souhaite afficher doit être écrite entre guillemets (simple ', double\", ou triples  ''').\n",
    "\n",
    "- Sans guillemets, c'est le contenu de la variable dont le nom est transmis en paramètre qui sera affiché. </div>"
   ]
  },
  {
   "cell_type": "markdown",
   "metadata": {},
   "source": [
    "<div class=\"alert alert-info\"> <strong>Consigne :</strong> <br> Exécutez les différentes cellules suivantes en identifiant à chaque fois le travail réalisé.\n",
    "</div>"
   ]
  },
  {
   "cell_type": "code",
   "execution_count": null,
   "metadata": {},
   "outputs": [],
   "source": [
    "x=5\n",
    "print('x+1')\n",
    "print(x+1)"
   ]
  },
  {
   "cell_type": "code",
   "execution_count": null,
   "metadata": {},
   "outputs": [],
   "source": [
    "Opération réalisée : écrire \"x+1\", écrire la valeur de x en lui rajoutant 1"
   ]
  },
  {
   "cell_type": "markdown",
   "metadata": {},
   "source": [
    "<div class=\"alert alert-info\"><strong>Exercice 6 : \n",
    "   <br> </strong> Écrire une ligne de programme qui affiche le message \"Hello, World!\"\n",
    "</div>"
   ]
  },
  {
   "cell_type": "code",
   "execution_count": null,
   "metadata": {},
   "outputs": [],
   "source": [
    "a = \"Hello, World!\"\n",
    "print(a)"
   ]
  },
  {
   "cell_type": "markdown",
   "metadata": {},
   "source": [
    "<div class=\"alert alert-success\" style=\"border-left: 5px solid #3c763d;border-radius: 5px;\">\n",
    "    \n",
    "On peut afficher **plusieurs chaînes de caractères** à l'aide d'une seule instruction <code>print()</code>. \n",
    "    \n",
    "Par défaut, un espace sera inséré entre chaque chaîne :\n",
    "    \n",
    "</div>"
   ]
  },
  {
   "cell_type": "code",
   "execution_count": null,
   "metadata": {},
   "outputs": [],
   "source": [
    "prenom = \"Barbara\"\n",
    "print(\"Tu t'appelles comment ?\",prenom,\"Moi, c'est David. \\n Je suis en seconde.\")"
   ]
  },
  {
   "cell_type": "markdown",
   "metadata": {},
   "source": [
    "**Remarques :**\n",
    "<code> Le code <code>'\\n' </code> permet de préciser un **retour à la ligne.**"
   ]
  },
  {
   "cell_type": "markdown",
   "metadata": {},
   "source": [
    "<div class=\"alert alert-info\"><strong>Exercice 7 : \n",
    "   <br> </strong> Compléter la suite d'instructions suivantes afin d'afficher une phrase qui indique votre date de naissance. \n",
    "</div>"
   ]
  },
  {
   "cell_type": "code",
   "execution_count": null,
   "metadata": {},
   "outputs": [],
   "source": [
    "JOUR = 12\n",
    "MOIS = 11\n",
    "ANNEE = 2008\n",
    "print(\"Vous êtes né(e) le : 12/11/2008\")"
   ]
  },
  {
   "cell_type": "markdown",
   "metadata": {},
   "source": [
    "## <font color=#2d06df><i>III. 2) Demander à l'utilisateur de saisir des données</i></font>\n",
    "<div class=\"alert alert-success\" style=\"border-left: 5px solid #3c763d;border-radius: 5px;\">\n",
    "    \n",
    "- Certains **scripts** (<i>programme ou morceau de programme</i>) nécessitent l'intervention de l'utilisateur.\n",
    "\n",
    "- La fonction <code>input()</code> permet de demander à **l'utilisateur** de **saisir** une chaîne de caractères ou un nombre au clavier, la saisie de termine lorsque l'utilisateur appuie sur la touche **_Entrée_**\n",
    "    \n",
    "- Cette fonction fournit en retour une **chaîne de caractère** correspondant à ce que l'utilisateur a saisi.\n",
    "    \n",
    "- Cette chaîne peut alors être assignée à une variable quelconque, convertie, etc.\n",
    "    \n",
    "- On peut, à l'intérieur des parenthèses, laisser un message explicatif destiné à l'utilisateur. \n",
    "\n",
    "</div>\n",
    "\n",
    "\n",
    "<div class=\"alert alert-info\"><strong>Consigne : </strong><br> Testez le programme suivant. </div>"
   ]
  },
  {
   "cell_type": "code",
   "execution_count": null,
   "metadata": {},
   "outputs": [],
   "source": [
    "prenom = input(\"Veuillez saisir votre prénom :\")\n",
    "print(\"Bonjour\",prenom,\"!\")"
   ]
  },
  {
   "cell_type": "markdown",
   "metadata": {},
   "source": [
    "**Remarque :** On peut demander plusieurs saisies à la suite, comme dans l'exemple suivant :"
   ]
  },
  {
   "cell_type": "code",
   "execution_count": null,
   "metadata": {},
   "outputs": [],
   "source": [
    "age = input(\"Veuillez saisir votre âge :\")\n",
    "prenom = input(\"Veuillez saisir votre prénom :\")\n",
    "ville = input(\"Veuillez saisir votre ville de résidence :\")\n",
    "print(\"Bonjour\", prenom,\"Tu as\", age, \"ans !\",\"Et tu habites à \",ville)"
   ]
  },
  {
   "cell_type": "markdown",
   "metadata": {},
   "source": [
    "## <font color=#2d06df><i>III. 3) Pour terminer</i></font>\n",
    "\n",
    "**Remarque :** Le script suivant affiche une erreur !"
   ]
  },
  {
   "cell_type": "code",
   "execution_count": null,
   "metadata": {
    "scrolled": true
   },
   "outputs": [],
   "source": [
    "age = input(\"Veuillez saisir votre âge :\")\n",
    "naissance = 2023 - age\n",
    "print(\"Ton année de naissance est :\",naissance)"
   ]
  },
  {
   "cell_type": "markdown",
   "metadata": {},
   "source": [
    "<div class=\"alert alert-success\" style=\"border-left: 5px solid #3c763d;border-radius: 5px;\"> L'erreur est due aux différents types affectés à la variable <code> naissance </code>\n",
    "\n",
    "En effet, la valeur renvoyée par la fonction <code> input() </code> est du type chaîne de caractères (string). Si on souhaite utiliser cette valeur pour effectuer des calculs, on doit d'abord convertir cette chaîne en entier avec la fonction <code> int()</code> ou en flottant avec la fonction <code>float()</code>.\n",
    "\n",
    "Voici le script corrigé. </div>"
   ]
  },
  {
   "cell_type": "code",
   "execution_count": null,
   "metadata": {},
   "outputs": [],
   "source": [
    "age = int(input(\"Veuillez saisir votre âge :\"))\n",
    "naissance = 2023 - age\n",
    "print(\"Ton année de naissance est :\",naissance)"
   ]
  },
  {
   "cell_type": "markdown",
   "metadata": {},
   "source": [
    "<div class=\"alert alert-info\"><strong>Exercice 8 : \n",
    "   <br> </strong> Écrire un programme, qui demande de saisir la longueur d'un côté c et qui renvoie le volume du cube de côté c.\n",
    "</div>"
   ]
  },
  {
   "cell_type": "code",
   "execution_count": null,
   "metadata": {},
   "outputs": [],
   "source": [
    "c = int(input(\"Veuillez saisir la longueur du coté c\"))\n",
    "volume = c*c*6\n",
    "print(\"Le volume du cube de coté c est :\",volume)"
   ]
  },
  {
   "cell_type": "markdown",
   "metadata": {},
   "source": [
    "<div class=\"alert alert-info\"><strong>Exercice 9 : \n",
    "   <br> </strong> Vous êtes chargé(e) de mettre en place une borne automatique pour régler les droits d'entrée dans un parc d'attraction.\n",
    "Chaque adulte doit payer 21 € pour rentrer et chaque enfant doit payer 13 €.\n",
    "    \n",
    "Pour cette borne, vous devez programmer sur Python, un algorithme qui renvoie le prix à payer en fonction du nombres d'adultes et d'enfants du groupe.\n",
    "    \n",
    "    \n",
    "Proposer un tel algorithme qui demande à l'utilisateur le nombre de personnes dans chacune des catégories et qui affiche le prix total à payer.\n",
    "</div>"
   ]
  },
  {
   "cell_type": "code",
   "execution_count": null,
   "metadata": {},
   "outputs": [],
   "source": [
    "e = int(input(\"Veuillez saisir le nombre d'enfant\"))\n",
    "a =int(input(\"Veuillez saisir le nombre d'adulte\"))\n",
    "prix = (e*13)+(a*21)\n",
    "print(\"Le prix à payer est :\",prix)"
   ]
  }
 ],
 "metadata": {
  "kernelspec": {
   "display_name": "Python 3 (ipykernel)",
   "language": "python",
   "name": "python3"
  },
  "language_info": {
   "codemirror_mode": {
    "name": "ipython",
    "version": 3
   },
   "file_extension": ".py",
   "mimetype": "text/x-python",
   "name": "python",
   "nbconvert_exporter": "python",
   "pygments_lexer": "ipython3",
   "version": "3.12.7"
  }
 },
 "nbformat": 4,
 "nbformat_minor": 4
}
