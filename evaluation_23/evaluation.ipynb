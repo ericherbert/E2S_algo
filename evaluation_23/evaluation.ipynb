{
 "cells": [
  {
   "cell_type": "markdown",
   "id": "2a3f624d-e99d-4ac0-a936-ac9008b367f9",
   "metadata": {},
   "source": [
    "# Évaluation du module Python.\n",
    "Quelques informations :\n",
    "\n",
    "1. L'évaluation est divisée en deux parties indépendantes. \n",
    "2. **Le rendu** est attendu sous la forme d'un **jupyter notebook** (voir `File/save Notebook as/` pour enregistrer) **ou d'un pdf** (voir `File/save and export/`) auquel vous donnerez votre nom et que vous m'enverrez par mail *eric.herbert@u-paris.fr*. \n",
    "3. Vous pouvez utiliser tous les documents ou ressources qui vous sembleront utiles.  "
   ]
  },
  {
   "cell_type": "markdown",
   "id": "9f1c6eb5-d30d-407c-b88d-0aafde8e943e",
   "metadata": {},
   "source": [
    "# Partie I\n"
   ]
  },
  {
   "cell_type": "markdown",
   "id": "09e424aa-f1fd-4908-97ff-7d90f06f8652",
   "metadata": {},
   "source": [
    "# Écrire un string\n",
    "En vous appuyant sur les variables *a* *b* et *c* proposés dans la cellule du dessous, créer une seule chaine de caractère. "
   ]
  },
  {
   "cell_type": "code",
   "execution_count": 1,
   "id": "54df6671-01bb-411d-8f5a-90fc8a20c150",
   "metadata": {},
   "outputs": [],
   "source": [
    "a = 2\n",
    "b = 'mardi'\n",
    "c = ' / '"
   ]
  },
  {
   "cell_type": "markdown",
   "id": "c3ea7c33-d0cb-4a65-b355-45ccfa78d71f",
   "metadata": {},
   "source": [
    "## À quoi servent les commandes ?\n",
    "Ajouter dans la cellule en dessous sous forme de commentaires l'usage des commandes "
   ]
  },
  {
   "cell_type": "code",
   "execution_count": 2,
   "id": "14f796e0-f8c8-4569-9054-be2c515ca060",
   "metadata": {},
   "outputs": [],
   "source": [
    "import numpy as np\n",
    "import matplotlib.pyplot as plt"
   ]
  },
  {
   "cell_type": "markdown",
   "id": "2008a4ef-d166-4fe8-aa6f-fd1d752892a4",
   "metadata": {},
   "source": [
    "## Écrire une fonction.\n",
    "1. Créer une fonction qui convertit les joules en calorie (1 cal = 4.184 J). Elle devra prendre un seul argument en entrée, le nombre de calorie et afficher le nombre de joule dans le terminal\n",
    "2. Exécuter cette fonction et vérifier qu'elle donne le résultat attendu.\n",
    "3. Grimper la tour Eiffel représente environ 200kJ. Combien faut il manger de calorie au minimum pour cet effort ?"
   ]
  },
  {
   "cell_type": "code",
   "execution_count": null,
   "id": "4a7a3044-aae6-4b84-b40f-24a0a8fbc9b9",
   "metadata": {},
   "outputs": [],
   "source": []
  },
  {
   "cell_type": "markdown",
   "id": "7a9bd7f5-61d9-4690-96f8-e38dead2109d",
   "metadata": {},
   "source": [
    "## Plot\n",
    "1. Faire la représentation graphique de *x* et *y* (voir leur expression dans la cellule en dessous)\n",
    "1. Ajouter sur la figure la fonction *z=2y*\n",
    "3. Ajouter le nom des axes"
   ]
  },
  {
   "cell_type": "code",
   "execution_count": 3,
   "id": "5f6a4a98-63dc-48b5-8f7d-0c1c72c90426",
   "metadata": {},
   "outputs": [],
   "source": [
    "x = np.arange(0,1,1e-2) ; y = np.sin( x*2*np.pi)"
   ]
  },
  {
   "cell_type": "markdown",
   "id": "809ca069-0e22-4a65-a0a7-a2d085751864",
   "metadata": {},
   "source": [
    "## Écrire une boucle **for**\n",
    "1. Rappeler à quoi sert et comment s'utilise une boucle `for`\n",
    "2. Écrire une boucle `for` avec un incrément de 0 à 100 et qui affiche sur le terminal les incréments mis à la puissance 2.1"
   ]
  },
  {
   "cell_type": "code",
   "execution_count": null,
   "id": "0cb60fdd-90a7-4dbb-85f7-05314badb2e6",
   "metadata": {},
   "outputs": [],
   "source": []
  },
  {
   "cell_type": "markdown",
   "id": "e7f1e179-c208-4f5c-a50e-7aaec910c3f6",
   "metadata": {},
   "source": [
    "## Écrire une boucle `if` \n",
    "1. Rappeler à quoi sert et comment s'utilise une boucle `if`\n",
    "2. Écrire une boucle `if` qui renvoie *oui* à la question *On va manger ?* et *j'ai faim* pour toute autre entrée. "
   ]
  },
  {
   "cell_type": "code",
   "execution_count": null,
   "id": "a90a42c3-3a18-427f-a655-a624c8c8a5ea",
   "metadata": {},
   "outputs": [],
   "source": []
  },
  {
   "cell_type": "markdown",
   "id": "9516fb17-f0cc-41a9-a535-135889f13d45",
   "metadata": {},
   "source": [
    "## Corriger\n",
    "1. Corriger la cellule suivante pour qu'elle puisse s'executer\n",
    "2. Vérifier que la sortie est correcte, c'est à dire conforme à ce que décrit la documentation. Corriger sinon.\n",
    "3. Quelle est la diagonale en metre d'un carré de surface 10mm2 ?"
   ]
  },
  {
   "cell_type": "code",
   "execution_count": 4,
   "id": "8abd0848-3814-4709-90d6-f60ee7102a61",
   "metadata": {},
   "outputs": [
    {
     "ename": "SyntaxError",
     "evalue": "unmatched ')' (1082185778.py, line 5)",
     "output_type": "error",
     "traceback": [
      "\u001b[0;36m  Cell \u001b[0;32mIn[4], line 5\u001b[0;36m\u001b[0m\n\u001b[0;31m    diag =  2 * S )**0.5\u001b[0m\n\u001b[0m                  ^\u001b[0m\n\u001b[0;31mSyntaxError\u001b[0m\u001b[0;31m:\u001b[0m unmatched ')'\n"
     ]
    }
   ],
   "source": [
    "def diagonal_carre( S = 1 ) :\n",
    "    # calcul de la diagonale d'un carré dont on connait la surface\n",
    "    # argument entreee: surface\n",
    "    # argument de sortie: diagonale\n",
    "    diag =  2 * S )**0.5\n",
    "    return diagonale\n",
    "diagonal carre()"
   ]
  },
  {
   "cell_type": "markdown",
   "id": "8f8977a6-86bd-46e7-bd96-4052aeb9ae3f",
   "metadata": {},
   "source": [
    "# Partie II"
   ]
  },
  {
   "cell_type": "markdown",
   "id": "3f44cc8c-a6da-4817-97f9-30791cfca302",
   "metadata": {},
   "source": [
    "Vous trouverez sur github <a href=\"https://github.com/ericherbert/E2S_algo\"><tt>https://github.com/ericherbert/E2S_algo</tt></a>\n",
    "dans évaluation 2023, le fichier de données\n",
    "<i>life-expectancy-vs-gdp-per-capita.csv</i> dans lequel se trouve les\n",
    "espérances de vie à la naissance, les PIB et les populations de\n",
    "tous les pays du monde en fonction du temps. Les données proviennent du\n",
    "site <a href=\"https://ourworldindata.org/\"><tt>https://ourworldindata.org/</tt></a>.\n",
    "\n",
    "## Récupérer les données\n",
    "1. Récupérer ce fichier, l'ouvrir dans JupyterHub avec un tableur. Quelle sont les espérances de vie en Chine en 2010 ? au Zimbabwe en 1957? Leur population ? Leur PIB ?\n",
    "2. L'ouvrir sous python avec la commande pd.read_csv, dans la variable `data`. On accède au noms des colonnes contenues `data` dans avec `list(data)`.\n",
    "3. Vérifications. Quelle est la taille de `data` ? On accède à la colonne `Entity` de `data` avec `data.Entity`."
   ]
  },
  {
   "cell_type": "code",
   "execution_count": null,
   "id": "ef9c1226-0547-4132-96dc-6238036d6cd7",
   "metadata": {},
   "outputs": [],
   "source": []
  },
  {
   "cell_type": "markdown",
   "id": "3882433e-a555-407a-adc4-da9561c74ac1",
   "metadata": {},
   "source": [
    "## Afficher les données\n",
    "1. En vous appuyant sur plt.hist, afficher les distributions des espérances de vie en 2010 et des populations puis enregistrer les figures. On pourra construire les données avec une commande de type : \n",
    "```\n",
    "out_GDP = data.GDP_per_capita[ (data.Year==2010) & (pd.notna(data.Code)) & (pd.notna(data.GDP_per_capita))]\n",
    "out_life = data.Period_life_expectancy_at_birth[ (data.Year==2010) & (pd.notna(data.Code)) & (pd.notna(data.Period_life_expectancy_at_birth))]\n",
    "```\n",
    "Qui combine trois conditions, la première sur l'année, la seconde exclut les continents, la troisième exclut les GDP manquant.\n",
    "\n",
    "2. Donner les étendues, les écart types et les moyennes de chacune des distributions out_GDP et out_life. Les sorties sont elles compatible avec ce que sous savez ?\n",
    "3. Est ce que les moyennes calculées à la question précédente correspondent à la moyenne mondiale ? Pourquoi ?"
   ]
  },
  {
   "cell_type": "code",
   "execution_count": null,
   "id": "d8979524-4ea2-428d-b1c1-f6b4da4ccf6a",
   "metadata": {},
   "outputs": [],
   "source": []
  },
  {
   "cell_type": "markdown",
   "id": "ff4a8cc3-7eb9-45b4-ab15-a51d65b5c145",
   "metadata": {},
   "source": [
    "## Calcul de la moyenne mondiale des espérances de vie.\n",
    "1. Calculer la population totale tot_pop. Vérifier la valeur.\n",
    "2. Caculer l'espérance de vie avec l'expression \n",
    "`np.sum(Ef*pop)/tot_pot`, avec Ef l'espérance de vie dans un pays et pop la population de ce pays."
   ]
  },
  {
   "cell_type": "code",
   "execution_count": null,
   "id": "5466a72c-5e8a-4817-b0b7-bce29cc94e02",
   "metadata": {},
   "outputs": [],
   "source": []
  }
 ],
 "metadata": {
  "kernelspec": {
   "display_name": "Python 3 (ipykernel)",
   "language": "python",
   "name": "python3"
  },
  "language_info": {
   "codemirror_mode": {
    "name": "ipython",
    "version": 3
   },
   "file_extension": ".py",
   "mimetype": "text/x-python",
   "name": "python",
   "nbconvert_exporter": "python",
   "pygments_lexer": "ipython3",
   "version": "3.11.5"
  }
 },
 "nbformat": 4,
 "nbformat_minor": 5
}
