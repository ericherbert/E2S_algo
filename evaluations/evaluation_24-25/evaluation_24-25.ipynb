{
 "cells": [
  {
   "cell_type": "markdown",
   "id": "2a3f624d-e99d-4ac0-a936-ac9008b367f9",
   "metadata": {},
   "source": [
    "# Évaluation du module Python.\n",
    "Quelques informations :\n",
    "\n",
    "1. L'évaluation est divisée en deux parties indépendantes. \n",
    "2. **Le rendu** est attendu sous la forme d'un **jupyter notebook** (voir `File/save Notebook as/` pour enregistrer) **ou d'un pdf** (voir `File/save and export/`) auquel vous donnerez votre nom et que vous m'enverrez par email *eric.herbert@u-paris.fr*. \n",
    "4. Vous pouvez utiliser tous les documents ou ressources qui vous sembleront utiles.  "
   ]
  },
  {
   "cell_type": "markdown",
   "id": "9f1c6eb5-d30d-407c-b88d-0aafde8e943e",
   "metadata": {},
   "source": [
    "# Partie I\n"
   ]
  },
  {
   "cell_type": "markdown",
   "id": "09e424aa-f1fd-4908-97ff-7d90f06f8652",
   "metadata": {},
   "source": [
    "# Manipuler un string\n",
    "En vous appuyant sur les variables *a* *b* et *c* proposés dans la cellule du dessous, créer une seule chaine de caractère en ajoutant les espaces pertinents pour afficher *Lundi 1er fevrier 2025*"
   ]
  },
  {
   "cell_type": "code",
   "execution_count": null,
   "id": "54df6671-01bb-411d-8f5a-90fc8a20c150",
   "metadata": {},
   "outputs": [],
   "source": [
    "a = 'Lundi '\n",
    "b = '1er'\n",
    "c = 'fevrier'"
   ]
  },
  {
   "cell_type": "markdown",
   "id": "c3ea7c33-d0cb-4a65-b355-45ccfa78d71f",
   "metadata": {},
   "source": [
    "## À quoi servent les commandes ?\n",
    "Ajouter dans la cellule en dessous sous forme de commentaires l'usage des commandes "
   ]
  },
  {
   "cell_type": "code",
   "execution_count": null,
   "id": "14f796e0-f8c8-4569-9054-be2c515ca060",
   "metadata": {},
   "outputs": [],
   "source": [
    "import numpy as np\n",
    "import matplotlib.pyplot as plt\n",
    "[print((j-1)/(j+1)) for j in range(12)]"
   ]
  },
  {
   "cell_type": "markdown",
   "id": "2008a4ef-d166-4fe8-aa6f-fd1d752892a4",
   "metadata": {},
   "source": [
    "## Écrire une fonction.\n",
    "1. Créer une fonction qui convertit une énergie en kilo-calorie  (1 cal = 4.184 J) et une durée en heure en une puissance en Watt. Elle devra prendre deux arguments en entrée, le nombre de kilo-calorie et la durée et afficher la puissance correspondante dans le terminal\n",
    "2. Exécuter cette fonction et vérifier qu'elle donne le résultat attendu."
   ]
  },
  {
   "cell_type": "code",
   "execution_count": null,
   "id": "4a7a3044-aae6-4b84-b40f-24a0a8fbc9b9",
   "metadata": {},
   "outputs": [],
   "source": []
  },
  {
   "cell_type": "markdown",
   "id": "7a9bd7f5-61d9-4690-96f8-e38dead2109d",
   "metadata": {},
   "source": [
    "## Plot\n",
    "1. Faire la représentation graphique de *x* et *y* (voir leur expression dans la cellule en dessous)\n",
    "1. Ajouter sur la figure la fonction *z=2y*\n",
    "3. Ajouter le nom des axes"
   ]
  },
  {
   "cell_type": "code",
   "execution_count": null,
   "id": "5f6a4a98-63dc-48b5-8f7d-0c1c72c90426",
   "metadata": {},
   "outputs": [],
   "source": [
    "import numpy as np\n",
    "x = np.arange(0,1,1e-2) ; y = np.sin( x*2*np.pi)"
   ]
  },
  {
   "cell_type": "markdown",
   "id": "809ca069-0e22-4a65-a0a7-a2d085751864",
   "metadata": {},
   "source": [
    "## Écrire une boucle **for**\n",
    "1. Rappeler à quoi sert et comment s'utilise une boucle `for`\n",
    "2. Calculer la somme des intérets d'un emprunt de 1000 euros sur 35 ans à 0.75% à l'aide d'une `for` "
   ]
  },
  {
   "cell_type": "code",
   "execution_count": null,
   "id": "0cb60fdd-90a7-4dbb-85f7-05314badb2e6",
   "metadata": {},
   "outputs": [],
   "source": []
  },
  {
   "cell_type": "markdown",
   "id": "e7f1e179-c208-4f5c-a50e-7aaec910c3f6",
   "metadata": {},
   "source": [
    "## Écrire une boucle `if` \n",
    "1. Rappeler à quoi sert et comment s'utilise une boucle `if`\n",
    "2. Écrire une boucle `if` qui renvoie *plus grand* ou *plus petit* en comparant la valeur testée à 57. "
   ]
  },
  {
   "cell_type": "code",
   "execution_count": null,
   "id": "a90a42c3-3a18-427f-a655-a624c8c8a5ea",
   "metadata": {},
   "outputs": [],
   "source": []
  },
  {
   "cell_type": "markdown",
   "id": "9516fb17-f0cc-41a9-a535-135889f13d45",
   "metadata": {},
   "source": [
    "## Corriger\n",
    "1. Corriger la cellule suivante pour qu'elle puisse s'executer\n",
    "2. Vérifier que la sortie est correcte, c'est à dire conforme à ce que décrit la documentation. Corriger sinon.\n",
    "3. Quelle est la diagonale en metre d'un carré de surface 10mm2 ?"
   ]
  },
  {
   "cell_type": "code",
   "execution_count": null,
   "id": "8abd0848-3814-4709-90d6-f60ee7102a61",
   "metadata": {},
   "outputs": [],
   "source": [
    "def Surface_triangle( a, b ) :\n",
    "    # calcul la surface d'un triangle rectangle de cotés a et b, tels que a**2+b**2=c**2\n",
    "    # argument entreee: a et b\n",
    "    # argument de sortie: surface\n",
    "    surface =  (a + b )**0.5\n",
    "    return diag\n",
    "Surface_triangl()"
   ]
  },
  {
   "cell_type": "markdown",
   "id": "8f8977a6-86bd-46e7-bd96-4052aeb9ae3f",
   "metadata": {},
   "source": [
    "# Partie II"
   ]
  },
  {
   "cell_type": "markdown",
   "id": "3f44cc8c-a6da-4817-97f9-30791cfca302",
   "metadata": {},
   "source": [
    "Vous trouverez sur github <a href=\"https://github.com/ericherbert/E2S_algo\"><tt>https://github.com/ericherbert/E2S_algo</tt></a> dans le répertoire `/evaluation_24-25`, le fichier de données <i>temperature-anomaly.csv</i>. Il correspond à l'anomalie de tempréature atmosphérique observé pour le monde, l'hémisphère nord et l'hamisphère sud. Les données proviennent du site <a href=\"https://ourworldindata.org/\"><tt>https://ourworldindata.org/</tt></a>.\n",
    "\n",
    "## Récupérer les données\n",
    "1. Récupérer ce fichier, l'ouvrir dans JupyterHub avec un tableur.\n",
    "    1. À quoi correspondent chacune des colonnes ?\n",
    "    2. Quelle est l'anomalie observée pour l'hémisphère nord en 1863 ?\n",
    "    3. Quelle est l'anomalie observée pour le monde en 2000 ?\n",
    "3. L'ouvrir sous python avec la commande pd.read_csv du module `pandas` dans la variable `data`. Afficher (`print`) les noms des colonnes contenues dans `data` avec la commande `list(data)`.\n",
    "4. Vérifications. Quelle est la longueur de `data` ? On accède à la colonne `Year` de `data` avec `data.Year`."
   ]
  },
  {
   "cell_type": "code",
   "execution_count": null,
   "id": "ef9c1226-0547-4132-96dc-6238036d6cd7",
   "metadata": {},
   "outputs": [],
   "source": []
  },
  {
   "cell_type": "code",
   "execution_count": null,
   "id": "524466e8-98ed-4887-8548-89bd99a8264b",
   "metadata": {},
   "outputs": [],
   "source": [
    "\n"
   ]
  },
  {
   "cell_type": "markdown",
   "id": "3882433e-a555-407a-adc4-da9561c74ac1",
   "metadata": {},
   "source": [
    "## Afficher les données\n",
    "1. En vous appuyant sur plt.hist, afficher les distributions anomlaies de température des hémisphères nord et sud, puis enregistrer les figures. On pourra construire les données avec une commande de type : \n",
    "```\n",
    "out_HN = data.loc[:,\"Global average temperature anomaly relative to 1961-1990\"][ (data.Entity=='Northern hemisphere') ]\n",
    "out_HS = data.loc[:,\"Global average temperature anomaly relative to 1961-1990\"][ (data.Entity=='Southern hemisphere') ]\n",
    "```\n",
    "Avec une condition sur la localisation\n",
    "\n",
    "2. Donner les étendues, les écart types et les moyennes de chacune des distributions out_HN et out_HS. "
   ]
  },
  {
   "cell_type": "code",
   "execution_count": null,
   "id": "d8979524-4ea2-428d-b1c1-f6b4da4ccf6a",
   "metadata": {},
   "outputs": [],
   "source": []
  },
  {
   "cell_type": "markdown",
   "id": "ff4a8cc3-7eb9-45b4-ab15-a51d65b5c145",
   "metadata": {},
   "source": [
    "## Calcul de la moyenne mondiale des espérances de vie.\n",
    "1. Calculer, pour chaque année, la moyenne mondiale de l'anomalie comme la moyenne des anomalies des deux hémisphères\n",
    "2. Comparer avec les valeurs données pour le monde (Global)"
   ]
  },
  {
   "cell_type": "code",
   "execution_count": null,
   "id": "5466a72c-5e8a-4817-b0b7-bce29cc94e02",
   "metadata": {},
   "outputs": [],
   "source": []
  }
 ],
 "metadata": {
  "kernelspec": {
   "display_name": "Python 3 (ipykernel)",
   "language": "python",
   "name": "python3"
  },
  "language_info": {
   "codemirror_mode": {
    "name": "ipython",
    "version": 3
   },
   "file_extension": ".py",
   "mimetype": "text/x-python",
   "name": "python",
   "nbconvert_exporter": "python",
   "pygments_lexer": "ipython3",
   "version": "3.12.7"
  }
 },
 "nbformat": 4,
 "nbformat_minor": 5
}
